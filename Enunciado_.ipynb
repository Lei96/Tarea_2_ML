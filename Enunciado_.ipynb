{
 "cells": [
  {
   "cell_type": "markdown",
   "metadata": {},
   "source": [
    "<img src=\"http://www.exalumnos.usm.cl/wp-content/uploads/2015/06/Isotipo-Negro.gif\" title=\"Title text\" width=\"20%\" height=\"20%\" />\n",
    "\n",
    "\n",
    "<hr style=\"height:2px;border:none\"/>\n",
    "<h1 align='center'> INF-393 Máquinas de Aprendizaje II-2018 </h1>\n",
    "\n",
    "<H3 align='center'> Tarea 2 - Fronteras no Lineales </H3>\n",
    "<hr style=\"height:2px;border:none\"/>\n",
    "\n",
    "**Temas**  \n",
    "* similaridad: KNN\n",
    "* Selección de hı́per-parámetros estructurales en SVM, Arboles de Decisión, k-NN y Redes Neuronales.\n",
    "* Métodos de *kernel*.\n",
    "* Extracción de características.\n",
    "* Múltiples anotaciones\n",
    "\n",
    "** Formalidades **  \n",
    "* Equipos de trabajo de: 2 personas (*cada uno debe estar en condiciones de realizar una presentación y discutir sobre cada punto del trabajo realizado*)\n",
    "* Se debe preparar una presentación de 20 minutos. Presentador será elegido aleatoriamente.\n",
    "* Se debe preparar un (breve) Jupyter/IPython notebook que explique la actividad realizada y las conclusiones del trabajo\n",
    "* Fecha de discusión y entrega: 8 de Noviembre.\n",
    "* Formato de entrega: envı́o de link Github al correo electrónico del ayudante (*<francisco.mena.13@sansano.usm.cl>*) , incluyendo al profesor en copia (*<jnancu@inf.utfsm.cl>*). Por favor especificar el siguiente asunto: [Tarea2-INF393-II-2018]\n",
    "\n",
    "<hr style=\"height:2px;border:none\"/>\n",
    "\n",
    "### Paquetes de instalación\n",
    "\n",
    "Como es usual utilizaremos *numpy, scipy, matplotlib* y *sklearn*. Además de éstas se necesitará instalar **keras**, una librerı́a en python para prototipado rápido de modelos basados en redes neuronales, muy similar en espı́ritu a *sklearn*. La librerı́a puede usar *TensorFlow* o *Theano* como backend, siendo éstas las librerı́as más populares para desarrollar nuevos modelos de redes neuronales o implementar eficientemente modelos conocidos con fines prácticos. Para detalles sobre la instalación puede revisar [[1]](#refs) o escribir un email a su ayudante.\n",
    "\n",
    "\n",
    "\n",
    "La tarea se divide en secciones:\n",
    "\n",
    "[1.](#primero) Sentiment Analysis en Texto  \n",
    "[2.](#segundo) pendiente\n"
   ]
  },
  {
   "cell_type": "markdown",
   "metadata": {},
   "source": [
    "<a id=\"primero\"></a>\n",
    "## 1. Sentiment Analysis en Texto\n",
    "\n",
    "El análisis de emociones o sentimientos se refiere al proceso de extraer información acerca de la actitud\n",
    "que una persona (o grupo de ellas) manifiesta, en un determinado medio o formato digital, con respecto a un\n",
    "tópico o contexto de comunicación. Uno de los casos más estudiados corresponde a determinar la polaridad\n",
    "de un trozo de texto, es decir, clasificar una determinada evaluación escrita (*review*), en que una persona\n",
    "manifiesta una opinión, como *positiva*, *negativa* o *neutral*. Esto también ha sido extendido a otros medios, como lo es analizar la polaridad de textos en redes sociales.  La dificultad de este problema radica en el carácter altamente ambiguo e informal del lenguaje que utilizan naturalmente las personas ası́ como el manejo de negaciones, sarcasmo y abreviaciones en una frase.\n",
    "\n",
    "<img src=\"https://formtitanhelpdeskimage.s3.amazonaws.com/70c78f9df2fd5c130e7021644f78f4c5.jpg\" title=\"Title text\" width=\"40%\" />\n",
    "\n",
    "\n",
    "Los datos que usaremos para esta actividad corresponden a un subconjunto de los datos publicados en **Kaggle**,  en  el  contexto  de  una  competencia  organizada  por  la  Universidad  de  Stanford  [[2]](#refs).   Cada  registro disponible corresponderá a una opinión sobre una película, registrada sobre el sitio *Rotten Tomatoes*.  Para empezar  nos  limitaremos  a  estudiar  textos  anotados  como  positivos  o  negativos,  clases  que  codificaremos como +1 y 0 respectivamente. Los datos pueden ser descargados ejecutando el siguiente código en sistema Unix:\n",
    "```\n",
    "wget -O train_data.csv http://www.inf.utfsm.cl/~jnancu/stanford-subset/polarity.train\n",
    "wget -O test_data.csv http://www.inf.utfsm.cl/~jnancu/stanford-subset/polarity.dev\n",
    "```\n",
    "\n",
    "> Cargue los dos conjuntos de datos a ser trabajados, donde la etiqueta ya viene codificada y la dejaremos como negativo (0) y positivo (1)."
   ]
  },
  {
   "cell_type": "code",
   "execution_count": 73,
   "metadata": {},
   "outputs": [],
   "source": [
    "import pandas as pd\n",
    "\n",
    "ftr = open(\"train_data.csv\", \"r\",  encoding=\"ISO-8859-1\")\n",
    "rows = [line.split(\" \",1) for line in ftr.readlines()]\n",
    "df_train = pd.DataFrame(rows, columns=['Sentiment','Text'])\n",
    "df_train['Sentiment'] = (pd.to_numeric(df_train['Sentiment'])+1)/2   # 0 o 1\n",
    "\n",
    "fts = open(\"test_data.csv\", \"r\",  encoding=\"ISO-8859-1\")\n",
    "rowstest = [line.split(\" \",1) for line in fts.readlines()]\n",
    "df_test = pd.DataFrame(rowstest, columns=['Sentiment','Text'])\n",
    "df_test['Sentiment'] = (pd.to_numeric(df_test['Sentiment'])+1)/2    # 0 o 1\n",
    "\n",
    "... #same loading for test\n",
    "\n",
    "df_train_text = df_train.Text\n",
    "df_test_text = df_test.Text\n",
    "labels_train = df_train.Sentiment.values\n",
    "labels_test = df_test.Sentiment.values \n",
    "\n"
   ]
  },
  {
   "cell_type": "markdown",
   "metadata": {},
   "source": [
    "> a) Describa los datos trabajados, como la cantidad de datos en cada conjunto, largo de los textos, la cantidad de ejemplo por cada clase, o alguna otra forma que piense que pueda ser útil para comprender el problema trabajado."
   ]
  },
  {
   "cell_type": "code",
   "execution_count": 74,
   "metadata": {},
   "outputs": [
    {
     "data": {
      "text/plain": [
       "(3554,)"
      ]
     },
     "execution_count": 74,
     "metadata": {},
     "output_type": "execute_result"
    }
   ],
   "source": [
    "df_train.Sentiment.shape\n",
    "df_test.Sentiment.shape"
   ]
  },
  {
   "cell_type": "markdown",
   "metadata": {},
   "source": [
    "**df_train:** datos (3554, 2). \n",
    "\n",
    "**df_test:** datos (3554, 2).\n",
    "\n",
    "**labels_train:** etiquetas (1, 3554).\n",
    "\n",
    "**labels_test:** etiquetas (1, 3554)."
   ]
  },
  {
   "cell_type": "markdown",
   "metadata": {},
   "source": [
    "> b) Construya un conjunto de validación desde el conjunto de entrenamiento para seleccionar modelos. Decida el tamaño dada la cantidad de ejemplos que se tienen para entrenamiento."
   ]
  },
  {
   "cell_type": "code",
   "execution_count": 75,
   "metadata": {},
   "outputs": [
    {
     "name": "stdout",
     "output_type": "stream",
     "text": [
      "(2370,) (1184,) (2370,) (1184,)\n"
     ]
    }
   ],
   "source": [
    "from sklearn.model_selection import train_test_split\n",
    "\n",
    "choosesizeb = 1184\n",
    "df_train_text, df_val_text, labels_train, labels_val  = train_test_split(df_train_text, labels_train, test_size = choosesizeb, random_state=0)\n",
    "\n",
    "print(df_train_text.shape, df_val_text.shape, labels_train.shape, labels_val.shape)\n"
   ]
  },
  {
   "cell_type": "markdown",
   "metadata": {},
   "source": [
    "La variable choosesizeb es con la que se elige el tamaño para el conjunto de validación. La elección es 1184 correspondiente a un tercio del total de datos."
   ]
  },
  {
   "cell_type": "markdown",
   "metadata": {},
   "source": [
    "> c) Realice un pre-procesamiento a los textos para normalizar un poco su estructura, para ello utilice el código de ejemplo a continuación, donde se pasa el texto a minúsculas (*lower-casing*), se reducen las mútliples letras, se eliminan palabras sin significados como artículos, pronombres y preposiciones (*stop word removal* [[3]](#refs)), además de pasar las palabras a su tronco léxico con la técnica de *lemmatizer* [[4]](#refs). Comente la importancia de un correcto pre-procesamiento en el domino de lenguaje natural."
   ]
  },
  {
   "cell_type": "code",
   "execution_count": 76,
   "metadata": {},
   "outputs": [],
   "source": [
    "import re, time\n",
    "from nltk.corpus import stopwords\n",
    "from nltk import WordNetLemmatizer, word_tokenize\n",
    "\n",
    "def base_word(word):\n",
    "    wordlemmatizer = WordNetLemmatizer()\n",
    "    return wordlemmatizer.lemmatize(word) \n",
    "def word_extractor(text):\n",
    "    commonwords = stopwords.words('english')\n",
    "    text = re.sub(r'([a-z])\\1+', r'\\1\\1', text) #substitute multiple letter by two\n",
    "    words = \"\"\n",
    "    wordtokens = [ base_word(word.lower()) for word in word_tokenize(text) ]\n",
    "    for word in wordtokens:\n",
    "        if word not in commonwords: #delete stopwords\n",
    "            words+=\" \"+word\n",
    "    return words\n",
    "... #try yourself\n",
    "word_extractor(\"I love to eat cake\")\n",
    "word_extractor(\"I love eating cake\")\n",
    "word_extractor(\"I loved eating the cake\")\n",
    "word_extractor(\"I do not love eating cake\")\n",
    "word_extractor(\"I don't love eating cake\")\n",
    "... #try yourself\n",
    "texts_train = [word_extractor(text) for text in df_train_text]\n",
    "texts_val = [word_extractor(text) for text in df_val_text]\n",
    "texts_test = [word_extractor(text) for text in df_test_text]"
   ]
  },
  {
   "cell_type": "markdown",
   "metadata": {},
   "source": [
    "La función word_extractor cumple el rol de eliminar las palabras que son inútiles, ya que no entregan ningún contenido relevante a la sentencia. Aquí una lista de palabras comunes que se eliminan con este método: https://gist.github.com/sebleier/554280. Además de discriminar las palabras útiles e inútiles, ayuda a utilizar menos recursos del computador."
   ]
  },
  {
   "cell_type": "markdown",
   "metadata": {},
   "source": [
    "> d) Construya una representación vectorial a los textos de entrada para poder ser manejados y clasificados por los modelos de aprendizaje. Para ésto utilice el tipo de característica más común, que consiste en contar cuántas veces aparece cada términos/palabras en el texto, denominado **TF** (*term-frequency*). Para esto, se necesita contar con un vocabulario base, el cual se construirá a través de la unión de todas las palabras que observemos en los textos de entrenamiento ¿Cuáles son las palabras más frecuentes?"
   ]
  },
  {
   "cell_type": "markdown",
   "metadata": {},
   "source": [
    "Se utiliza term-frequency"
   ]
  },
  {
   "cell_type": "code",
   "execution_count": 77,
   "metadata": {},
   "outputs": [],
   "source": [
    "import numpy as np\n",
    "from sklearn.feature_extraction.text import CountVectorizer\n",
    "\n",
    "vectorizer = CountVectorizer(ngram_range=(1, 1), binary=False) #TF representation\n",
    "vectorizer.fit(texts_train)\n",
    "\n",
    "... #conjunto entrenamiento\n",
    "features_train = vectorizer.transform(texts_train) \n",
    "\n",
    "vocab = vectorizer.get_feature_names()\n",
    "dist_train = list(np.array(features_train.sum(axis=0)).reshape(-1,))\n",
    "\n",
    "#transform val and test\n",
    "\n",
    "... #conjunto validación\n",
    "features_val = vectorizer.transform(texts_val)\n",
    "dist_val = list(np.array(features_val.sum(axis=0)).reshape(-1,))\n",
    "... #conjunto test\n",
    "features_test = vectorizer.transform(texts_test)\n",
    "dist_test = list(np.array(features_test.sum(axis=0)).reshape(-1,))"
   ]
  },
  {
   "cell_type": "markdown",
   "metadata": {},
   "source": [
    "Se dan a conocer las 10 palabras más frecuentes para cada conjunto, de mayor a menor."
   ]
  },
  {
   "cell_type": "code",
   "execution_count": 78,
   "metadata": {},
   "outputs": [
    {
     "name": "stdout",
     "output_type": "stream",
     "text": [
      "conjunto entrenamiento:  ['film', 'movie', 'one', 'ha', 'like', 'make', 'story', 'character', 'even', 'good']\n",
      "conjunto validación:  ['film', 'movie', 'like', 'one', 'ha', 'time', 'story', 'comedy', 'good', 'doe']\n",
      "conjunto test:  ['film', 'movie', 'one', 'ha', 'like', 'story', 'character', 'time', 'make', 'good']\n"
     ]
    }
   ],
   "source": [
    "...#train set\n",
    "palmasfrectrain = np.argsort(np.array(dist_train))[-10:]\n",
    "\n",
    "listpalmasfrectrain = []\n",
    "for i in palmasfrectrain:\n",
    "    listpalmasfrectrain.append(vocab[i])\n",
    "    \n",
    "print(\"conjunto entrenamiento: \", listpalmasfrectrain[::-1])\n",
    "\n",
    "...#validation set\n",
    "palmasfrecval = np.argsort(np.array(dist_val))[-10:]\n",
    "\n",
    "listpalmasfrecval = []\n",
    "for i in palmasfrecval:\n",
    "    listpalmasfrecval.append(vocab[i])\n",
    "    \n",
    "print(\"conjunto validación: \", listpalmasfrecval[::-1])\n",
    "\n",
    "...#test set\n",
    "palmasfrectest = np.argsort(np.array(dist_test))[-10:]\n",
    "\n",
    "listpalmasfrectest = []\n",
    "for i in palmasfrectest:\n",
    "    listpalmasfrectest.append(vocab[i])\n",
    "    \n",
    "print(\"conjunto test: \", listpalmasfrectest[::-1])"
   ]
  },
  {
   "cell_type": "markdown",
   "metadata": {},
   "source": [
    "> e) Para tener una visión distinta y entender mejor la representación vectorial realizada, visualice los datos en un plano 2D. Para ésto utilice la técnica **LSA** (*Latent Semantic Analysis*) [[5]](#refs) que a diferencia de PCA, **no centra** los datos antes de realizar la descomposicipon SVD, de ésta manera podrá visualizar el espacio semántico de \"conceptos\" latentes usados en la representación. Coloree cada texto en base a su clase ¿Qué indica lo observado? Comente e interprete los resultados"
   ]
  },
  {
   "cell_type": "code",
   "execution_count": 79,
   "metadata": {},
   "outputs": [
    {
     "data": {
      "image/png": "[encoded data removed]",
      "text/plain": [
       "<Figure size 720x360 with 1 Axes>"
      ]
     },
     "metadata": {
      "needs_background": "light"
     },
     "output_type": "display_data"
    }
   ],
   "source": [
    "import matplotlib.pyplot as plt\n",
    "from sklearn.decomposition import TruncatedSVD\n",
    "\n",
    "model = TruncatedSVD(n_components = 2)\n",
    "model.fit(features_train)\n",
    "x_plot = model.transform(features_train)\n",
    "plt.figure(figsize=(10,5))\n",
    "plt.scatter(x_plot[:,0], x_plot[:,1], c = labels_train)\n",
    "plt.show()"
   ]
  },
  {
   "cell_type": "markdown",
   "metadata": {},
   "source": [
    "Indica que hay tres agrupaciones importantes a los que pertenecen todas las palabras. Se evidencian pocos outliers con respecto al total de datos."
   ]
  },
  {
   "cell_type": "markdown",
   "metadata": {},
   "source": [
    "> f) Entrene un modelo de Regresión Logística Regularizado (utilizando como penalizador la norma $l_2$). Varíe el parámetro de regularización $C$, en potencias de 10, midiendo el error de predicción obtenido sobre los datos de entrenamiento y validación, construya un gráfico que muestre la variación de ambos errores respecto al parámetro $C$. Explique el significado y valor esperado del parámetro de regularización."
   ]
  },
  {
   "cell_type": "code",
   "execution_count": 80,
   "metadata": {},
   "outputs": [
    {
     "name": "stdout",
     "output_type": "stream",
     "text": [
      "Param C=  0.0001\n",
      "Param C=  0.001\n",
      "Param C=  0.01\n",
      "Param C=  0.1\n",
      "Param C=  1\n",
      "Param C=  10\n",
      "Param C=  100\n",
      "Param C=  1000\n",
      "[0.4966216216216216, 0.5641891891891891, 0.6554054054054054, 0.7069256756756757, 0.7094594594594594, 0.7069256756756757, 0.6959459459459459, 0.6951013513513513]\n"
     ]
    },
    {
     "data": {
      "image/png": "[encoded data removed]",
      "text/plain": [
       "<Figure size 432x288 with 1 Axes>"
      ]
     },
     "metadata": {
      "needs_background": "light"
     },
     "output_type": "display_data"
    },
    {
     "name": "stdout",
     "output_type": "stream",
     "text": [
      "LogisticRegression(C=1000, class_weight=None, dual=False, fit_intercept=True,\n",
      "                   intercept_scaling=1, l1_ratio=None, max_iter=10000,\n",
      "                   multi_class='auto', n_jobs=None, penalty='l2',\n",
      "                   random_state=None, solver='lbfgs', tol=0.0001, verbose=0,\n",
      "                   warm_start=False)\n"
     ]
    }
   ],
   "source": [
    "from sklearn.linear_model import LogisticRegression\n",
    "def do_LOGIT(x,y,xv,yv, param):\n",
    "    print(\"Param C= \",param)\n",
    "    model= LogisticRegression()\n",
    "    model.set_params(C=param,max_iter = 10000)\n",
    "    model.fit(x,y)\n",
    "    train_acc = model.score(x,y)\n",
    "    test_acc = model.score(xv,yv)\n",
    "    return model, train_acc, test_acc\n",
    "#Cs = [10**i for i in np.arange(-4,4)]\n",
    "#model, train_acc, test_acc = do_LOGIT(features_train, labels_train, features_val, labels_val, param = 10)\n",
    "\n",
    "listCvalores = [0.0001, 0.001, 0.01, 0.1, 1, 10, 100, 1000]\n",
    "acc_train = []\n",
    "acc_val =  []\n",
    "for i in listCvalores:\n",
    "    model, train_acc, val_acc = do_LOGIT(features_train, labels_train, features_val, labels_val, param = i)\n",
    "    acc_train.append(train_acc)\n",
    "    acc_val.append(val_acc)\n",
    "\n",
    "print(acc_val)\n",
    "plt.plot(listCvalores,acc_train,label = 'accuracy trainset')\n",
    "plt.plot(listCvalores,acc_val,label = 'accuracy validationset')\n",
    "plt.xlabel('valor C')\n",
    "plt.ylabel('accuracy')\n",
    "plt.xscale('log')\n",
    "plt.legend()\n",
    "plt.show()\n",
    "print(model)\n",
    "    \n",
    "    \n",
    "    "
   ]
  },
  {
   "cell_type": "markdown",
   "metadata": {},
   "source": [
    "El parámetro de regulación $C$ corresponde al dato que se ingresa para reducir el overfitting. A medida que el valor es más pequeño, mayor es la regularización. De esta manera, a medida que C aumenta, se ajusta con mayor precisión a los datos de entrenamiento, como se aprecia en los gráficos."
   ]
  },
  {
   "cell_type": "markdown",
   "metadata": {},
   "source": [
    "> g) Entrene una Máquina de Soporte Vectorial (SVM) con distintos kernels. Similar a lo anterior, construya un gráfico que muestre la variación de ambos errores respecto al parámetro de regularización $C$ para cada tipo de kernel que experimente. Explique el significado y valor esperado de los parámetros en este modelo."
   ]
  },
  {
   "cell_type": "code",
   "execution_count": 81,
   "metadata": {},
   "outputs": [
    {
     "name": "stdout",
     "output_type": "stream",
     "text": [
      "Param C=  0.0001 Kernel=  linear\n",
      "Param C=  0.001 Kernel=  linear\n",
      "Param C=  0.01 Kernel=  linear\n",
      "Param C=  0.1 Kernel=  linear\n",
      "Param C=  1 Kernel=  linear\n",
      "Param C=  10 Kernel=  linear\n",
      "Param C=  100 Kernel=  linear\n",
      "Param C=  1000 Kernel=  linear\n",
      "[0.4966216216216216, 0.4966216216216216, 0.6072635135135135, 0.6967905405405406, 0.691722972972973, 0.6883445945945946, 0.6883445945945946, 0.6883445945945946]\n"
     ]
    },
    {
     "data": {
      "image/png": "[encoded data removed]",
      "text/plain": [
       "<Figure size 432x288 with 1 Axes>"
      ]
     },
     "metadata": {
      "needs_background": "light"
     },
     "output_type": "display_data"
    },
    {
     "name": "stdout",
     "output_type": "stream",
     "text": [
      "SVC(C=1000, break_ties=False, cache_size=200, class_weight=None, coef0=0.0,\n",
      "    decision_function_shape='ovr', degree=3, gamma='scale', kernel='linear',\n",
      "    max_iter=-1, probability=True, random_state=None, shrinking=True, tol=0.001,\n",
      "    verbose=False)\n",
      "Param C=  0.0001 Kernel=  rbf\n",
      "Param C=  0.001 Kernel=  rbf\n",
      "Param C=  0.01 Kernel=  rbf\n",
      "Param C=  0.1 Kernel=  rbf\n",
      "Param C=  1 Kernel=  rbf\n",
      "Param C=  10 Kernel=  rbf\n",
      "Param C=  100 Kernel=  rbf\n",
      "Param C=  1000 Kernel=  rbf\n",
      "[0.4966216216216216, 0.4966216216216216, 0.4966216216216216, 0.49746621621621623, 0.6891891891891891, 0.6908783783783784, 0.6925675675675675, 0.6925675675675675]\n"
     ]
    },
    {
     "data": {
      "image/png": "[encoded data removed]",
      "text/plain": [
       "<Figure size 432x288 with 1 Axes>"
      ]
     },
     "metadata": {
      "needs_background": "light"
     },
     "output_type": "display_data"
    },
    {
     "name": "stdout",
     "output_type": "stream",
     "text": [
      "SVC(C=1000, break_ties=False, cache_size=200, class_weight=None, coef0=0.0,\n",
      "    decision_function_shape='ovr', degree=3, gamma='scale', kernel='rbf',\n",
      "    max_iter=-1, probability=True, random_state=None, shrinking=True, tol=0.001,\n",
      "    verbose=False)\n",
      "Param C=  0.0001 Kernel=  poly\n",
      "Param C=  0.001 Kernel=  poly\n",
      "Param C=  0.01 Kernel=  poly\n",
      "Param C=  0.1 Kernel=  poly\n",
      "Param C=  1 Kernel=  poly\n",
      "Param C=  10 Kernel=  poly\n",
      "Param C=  100 Kernel=  poly\n",
      "Param C=  1000 Kernel=  poly\n",
      "[0.4966216216216216, 0.4966216216216216, 0.4966216216216216, 0.4966216216216216, 0.6461148648648649, 0.6621621621621622, 0.6089527027027027, 0.6114864864864865]\n"
     ]
    },
    {
     "data": {
      "image/png": "[encoded data removed]",
      "text/plain": [
       "<Figure size 432x288 with 1 Axes>"
      ]
     },
     "metadata": {
      "needs_background": "light"
     },
     "output_type": "display_data"
    },
    {
     "name": "stdout",
     "output_type": "stream",
     "text": [
      "SVC(C=1000, break_ties=False, cache_size=200, class_weight=None, coef0=0.0,\n",
      "    decision_function_shape='ovr', degree=3, gamma='scale', kernel='poly',\n",
      "    max_iter=-1, probability=True, random_state=None, shrinking=True, tol=0.001,\n",
      "    verbose=False)\n",
      "Param C=  0.0001 Kernel=  sigmoid\n",
      "Param C=  0.001 Kernel=  sigmoid\n",
      "Param C=  0.01 Kernel=  sigmoid\n",
      "Param C=  0.1 Kernel=  sigmoid\n",
      "Param C=  1 Kernel=  sigmoid\n",
      "Param C=  10 Kernel=  sigmoid\n",
      "Param C=  100 Kernel=  sigmoid\n",
      "Param C=  1000 Kernel=  sigmoid\n",
      "[0.4966216216216216, 0.4966216216216216, 0.4966216216216216, 0.5827702702702703, 0.6984797297297297, 0.6815878378378378, 0.6579391891891891, 0.6663851351351351]\n"
     ]
    },
    {
     "data": {
      "image/png": "[encoded data removed]",
      "text/plain": [
       "<Figure size 432x288 with 1 Axes>"
      ]
     },
     "metadata": {
      "needs_background": "light"
     },
     "output_type": "display_data"
    },
    {
     "name": "stdout",
     "output_type": "stream",
     "text": [
      "SVC(C=1000, break_ties=False, cache_size=200, class_weight=None, coef0=0.0,\n",
      "    decision_function_shape='ovr', degree=3, gamma='scale', kernel='sigmoid',\n",
      "    max_iter=-1, probability=True, random_state=None, shrinking=True, tol=0.001,\n",
      "    verbose=False)\n"
     ]
    }
   ],
   "source": [
    "from sklearn.svm import SVC as SVM #SVC is for classification\n",
    "def do_SVM(x,y,xv,yv, param, kernel='linear'):\n",
    "    print(\"Param C= \",param, 'Kernel= ', kernel)\n",
    "    modelsvm= SVM(probability = True)\n",
    "    modelsvm.set_params(C=param,kernel=kernel) #try rbf and linear at least\n",
    "    modelsvm.fit(x,y)\n",
    "    train_acc = modelsvm.score(x,y)\n",
    "    test_acc = modelsvm.score(xv,yv)\n",
    "    return modelsvm, train_acc, test_acc\n",
    "Cs = [10**int(i) for i in np.arange(-4,4)]\n",
    "\n",
    "\n",
    "listCvalores = ['linear', 'rbf', 'poly', 'sigmoid']\n",
    "\n",
    "for i in listCvalores:\n",
    "    acc_train = []\n",
    "    acc_val =  []\n",
    "    for j in Cs:\n",
    "        modelsvm, train_acc, val_acc = do_SVM(features_train, labels_train, features_val, labels_val, j, i)\n",
    "        acc_train.append(train_acc)\n",
    "        acc_val.append(val_acc)\n",
    "    print(acc_val)\n",
    "    plt.plot(Cs,acc_train,label = 'accuracy trainset')\n",
    "    plt.plot(Cs,acc_val,label = 'accuracy validationset')\n",
    "    plt.xlabel('valor C')\n",
    "    plt.ylabel('accuracy')\n",
    "    plt.xscale('log')\n",
    "    plt.legend()\n",
    "    plt.show()\n",
    "    print(modelsvm)\n",
    "\n",
    "    "
   ]
  },
  {
   "cell_type": "markdown",
   "metadata": {},
   "source": [
    "Se aprecia que la variación del parámetro $C$ efectivamente es relevante para con la accuracy del modelo."
   ]
  },
  {
   "cell_type": "markdown",
   "metadata": {},
   "source": [
    "> h) Utilice el algoritmo de similaridad k-NN para intentar resolver el problema. Varíe el parámetro de los vecinos $k$ en un rango que estime conveniente y realice graficos de errores como en las preguntas anteriores. Comente sobre el valor esperado de este parámetro."
   ]
  },
  {
   "cell_type": "code",
   "execution_count": 82,
   "metadata": {},
   "outputs": [
    {
     "name": "stdout",
     "output_type": "stream",
     "text": [
      "Param K=  1\n",
      "Param K=  301\n",
      "Param K=  601\n",
      "Param K=  901\n",
      "Param K=  1201\n",
      "Param K=  1501\n",
      "Param K=  1801\n",
      "Param K=  2101\n",
      "[0.5692567567567568, 0.5599662162162162, 0.5768581081081081, 0.5658783783783784, 0.535472972972973, 0.5515202702702703, 0.5363175675675675, 0.4966216216216216]\n"
     ]
    },
    {
     "data": {
      "image/png": "[encoded data removed]",
      "text/plain": [
       "<Figure size 432x288 with 1 Axes>"
      ]
     },
     "metadata": {
      "needs_background": "light"
     },
     "output_type": "display_data"
    },
    {
     "name": "stdout",
     "output_type": "stream",
     "text": [
      "KNeighborsClassifier(algorithm='auto', leaf_size=30, metric='minkowski',\n",
      "                     metric_params=None, n_jobs=None, n_neighbors=2101, p=2,\n",
      "                     weights='uniform')\n"
     ]
    }
   ],
   "source": [
    "from sklearn.neighbors import KNeighborsClassifier\n",
    "def do_KNN(x,y,xv,yv, param):\n",
    "    model = KNeighborsClassifier()\n",
    "    print(\"Param K= \",param)\n",
    "    model.set_params(n_neighbors=param)\n",
    "    model.fit(x,y)\n",
    "    train_acc = model.score(x,y)\n",
    "    test_acc = model.score(xv,yv)\n",
    "    return model, train_acc, test_acc\n",
    "steps = 300\n",
    "Ks = np.arange(1, features_train.shape[0], steps)\n",
    "acc_train = []\n",
    "acc_val =  []\n",
    "for i in Ks:\n",
    "    model, train_acc, val_acc = do_KNN(features_train, labels_train, features_val, labels_val, param = i)\n",
    "    acc_train.append(train_acc)\n",
    "    acc_val.append(val_acc)\n",
    "print(acc_val)\n",
    "plt.plot(Ks,acc_train,label = 'accuracy trainset')\n",
    "plt.plot(Ks,acc_val,label = 'accuracy validationset')\n",
    "plt.xlabel('valor K')\n",
    "plt.ylabel('accuracy')\n",
    "plt.legend()\n",
    "plt.show()\n",
    "print(model)    "
   ]
  },
  {
   "cell_type": "markdown",
   "metadata": {},
   "source": [
    "En este modelo, al aumentar el valor $K$ se ve una disminución de forma constante del accuracy."
   ]
  },
  {
   "cell_type": "markdown",
   "metadata": {},
   "source": [
    "> i) Entrene un Arbol de Decisión para resolver el problema. Varíe los parámetros de *max depth* y *min samples split* de manera separada, constuyendo gráficos de error respecto a estos parámetros. *Los valores que se presentan son sugerencias, no es necesario utilizar los mismos*. Comente sobre la diferencia entre la selección de estos dos parámetros."
   ]
  },
  {
   "cell_type": "code",
   "execution_count": 83,
   "metadata": {},
   "outputs": [
    {
     "name": "stdout",
     "output_type": "stream",
     "text": [
      "Param Max-D=  1 Min-samples-S=  2\n",
      "Param Max-D=  301 Min-samples-S=  2\n",
      "Param Max-D=  601 Min-samples-S=  2\n",
      "Param Max-D=  901 Min-samples-S=  2\n",
      "Param Max-D=  1201 Min-samples-S=  2\n",
      "Param Max-D=  1501 Min-samples-S=  2\n",
      "Param Max-D=  1801 Min-samples-S=  2\n",
      "Param Max-D=  2101 Min-samples-S=  2\n",
      "Param Max-D=  2401 Min-samples-S=  2\n",
      "Param Max-D=  2701 Min-samples-S=  2\n",
      "Param Max-D=  3001 Min-samples-S=  2\n",
      "Param Max-D=  3301 Min-samples-S=  2\n",
      "Param Max-D=  3601 Min-samples-S=  2\n",
      "Param Max-D=  3901 Min-samples-S=  2\n",
      "Param Max-D=  4201 Min-samples-S=  2\n",
      "Param Max-D=  4501 Min-samples-S=  2\n",
      "Param Max-D=  4801 Min-samples-S=  2\n",
      "Param Max-D=  5101 Min-samples-S=  2\n",
      "Param Max-D=  5401 Min-samples-S=  2\n",
      "Param Max-D=  5701 Min-samples-S=  2\n",
      "Param Max-D=  6001 Min-samples-S=  2\n",
      "Param Max-D=  6301 Min-samples-S=  2\n",
      "Param Max-D=  6601 Min-samples-S=  2\n",
      "Param Max-D=  6901 Min-samples-S=  2\n",
      "Param Max-D=  7201 Min-samples-S=  2\n",
      "Param Max-D=  7501 Min-samples-S=  2\n",
      "[0.5194256756756757, 0.6097972972972973, 0.620777027027027, 0.6021959459459459, 0.6275337837837838, 0.620777027027027, 0.6241554054054054, 0.625, 0.6233108108108109, 0.6216216216216216, 0.6055743243243243, 0.6300675675675675, 0.6140202702702703, 0.6233108108108109, 0.6300675675675675, 0.6021959459459459, 0.620777027027027, 0.6359797297297297, 0.6317567567567568, 0.6216216216216216, 0.5988175675675675, 0.6097972972972973, 0.629222972972973, 0.6106418918918919, 0.6140202702702703, 0.620777027027027]\n"
     ]
    },
    {
     "data": {
      "image/png": "[encoded data removed]",
      "text/plain": [
       "<Figure size 432x288 with 1 Axes>"
      ]
     },
     "metadata": {
      "needs_background": "light"
     },
     "output_type": "display_data"
    },
    {
     "name": "stdout",
     "output_type": "stream",
     "text": [
      "DecisionTreeClassifier(ccp_alpha=0.0, class_weight=None, criterion='gini',\n",
      "                       max_depth=7501, max_features=None, max_leaf_nodes=None,\n",
      "                       min_impurity_decrease=0.0, min_impurity_split=None,\n",
      "                       min_samples_leaf=1, min_samples_split=2,\n",
      "                       min_weight_fraction_leaf=0.0, presort='deprecated',\n",
      "                       random_state=None, splitter='best')\n",
      "Param Max-D=  None Min-samples-S=  2\n",
      "Param Max-D=  None Min-samples-S=  302\n",
      "Param Max-D=  None Min-samples-S=  602\n",
      "Param Max-D=  None Min-samples-S=  902\n",
      "Param Max-D=  None Min-samples-S=  1202\n",
      "Param Max-D=  None Min-samples-S=  1502\n",
      "Param Max-D=  None Min-samples-S=  1802\n",
      "Param Max-D=  None Min-samples-S=  2102\n",
      "[0.620777027027027, 0.6131756756756757, 0.6097972972972973, 0.6089527027027027, 0.5861486486486487, 0.5625, 0.5591216216216216, 0.5202702702702703]\n"
     ]
    },
    {
     "data": {
      "image/png": "[encoded data removed]",
      "text/plain": [
       "<Figure size 432x288 with 1 Axes>"
      ]
     },
     "metadata": {
      "needs_background": "light"
     },
     "output_type": "display_data"
    },
    {
     "name": "stdout",
     "output_type": "stream",
     "text": [
      "DecisionTreeClassifier(ccp_alpha=0.0, class_weight=None, criterion='gini',\n",
      "                       max_depth=None, max_features=None, max_leaf_nodes=None,\n",
      "                       min_impurity_decrease=0.0, min_impurity_split=None,\n",
      "                       min_samples_leaf=1, min_samples_split=2102,\n",
      "                       min_weight_fraction_leaf=0.0, presort='deprecated',\n",
      "                       random_state=None, splitter='best')\n"
     ]
    }
   ],
   "source": [
    "from sklearn.tree import DecisionTreeClassifier as Tree\n",
    "def do_Tree(x,y,xv,yv, param_d=None, param_m=2):\n",
    "    model= Tree()\n",
    "    print(\"Param Max-D= \",param_d, 'Min-samples-S= ', param_m)\n",
    "    model.set_params(max_depth=param_d, min_samples_split=param_m) \n",
    "    model.fit(x,y)\n",
    "    train_acc = model.score(x,y)\n",
    "    test_acc = model.score(xv,yv)\n",
    "    return model, train_acc, test_acc\n",
    "steps = 300\n",
    "Depths = np.arange(1, features_train.shape[1], steps ) #choose steps\n",
    "SamplesS = np.arange(2, features_train.shape[0] , steps ) #choose steps\n",
    "acc_train = []\n",
    "acc_val =  []\n",
    "for i in Depths:\n",
    "    model, train_acc, val_acc = do_Tree(features_train, labels_train, features_val, labels_val, i)\n",
    "    acc_train.append(train_acc)\n",
    "    acc_val.append(val_acc)\n",
    "print(acc_val)\n",
    "plt.plot(Depths,acc_train,label = 'accuracy trainset')\n",
    "plt.plot(Depths,acc_val,label = 'accuracy validationset')\n",
    "plt.xlabel('valor Depths')\n",
    "plt.ylabel('accuracy')\n",
    "plt.legend()\n",
    "plt.show()\n",
    "print(model)   \n",
    "\n",
    "acc_train = []\n",
    "acc_val =  []\n",
    "for i in SamplesS:\n",
    "    model, train_acc, val_acc = do_Tree(features_train, labels_train, features_val, labels_val, None,i)\n",
    "    acc_train.append(train_acc)\n",
    "    acc_val.append(val_acc)\n",
    "print(acc_val)\n",
    "plt.plot(SamplesS,acc_train,label = 'accuracy trainset')\n",
    "plt.plot(SamplesS,acc_val,label = 'accuracy validationset')\n",
    "plt.xlabel('valor Samples')\n",
    "plt.ylabel('accuracy')\n",
    "plt.legend()\n",
    "plt.show()\n",
    "print(model)  \n",
    "\n"
   ]
  },
  {
   "cell_type": "markdown",
   "metadata": {},
   "source": [
    "A nivel cualitativo, es posible notar que el parámetro Depths se comporta diferente al parámetro Sample. Lo anterior, dado a que el primero mantiene la accuracy mientras él aumenta. Sample, en cambio, disminuye la accuracy cuando él aumenta."
   ]
  },
  {
   "cell_type": "markdown",
   "metadata": {},
   "source": [
    "> j) Utilice una Red Neuronal Artificial (ANN) para intentar resolver el problema, como la que se señala a continuación (utilizando el framework de *keras*): entrenada por 25 iteraciones al dataset (*epochs*) con un tamaño de *batch* de 128 para las actualizaciones de los pesos, utilizando *SGD* con una tasa de aprendizaje $0.1$ sobre la función de pérdida binaria de clasificación. La arquitectura de la red contiene una capa de salida con una única neurona que indica la probabilidad de que el texto sea positivo, una capa escondida con número de neuronas $N_h$ y la capa de entrada implícita para $x$. Varíe el parámetro que corresponde al número de neuronas en la capa oculta $N_h$, en potencias de 2, y vuelva a realizar el gráfico de error con respecto al parámetro. Comente."
   ]
  },
  {
   "cell_type": "code",
   "execution_count": 62,
   "metadata": {},
   "outputs": [
    {
     "ename": "ModuleNotFoundError",
     "evalue": "No module named 'keras'",
     "output_type": "error",
     "traceback": [
      "\u001b[0;31m---------------------------------------------------------------------------\u001b[0m",
      "\u001b[0;31mModuleNotFoundError\u001b[0m                       Traceback (most recent call last)",
      "\u001b[0;32m<ipython-input-62-ae6261896c5d>\u001b[0m in \u001b[0;36m<module>\u001b[0;34m\u001b[0m\n\u001b[0;32m----> 1\u001b[0;31m \u001b[0;32mfrom\u001b[0m \u001b[0mkeras\u001b[0m\u001b[0;34m.\u001b[0m\u001b[0mmodels\u001b[0m \u001b[0;32mimport\u001b[0m \u001b[0mSequential\u001b[0m\u001b[0;34m\u001b[0m\u001b[0;34m\u001b[0m\u001b[0m\n\u001b[0m\u001b[1;32m      2\u001b[0m \u001b[0;32mfrom\u001b[0m \u001b[0mkeras\u001b[0m\u001b[0;34m.\u001b[0m\u001b[0mlayers\u001b[0m \u001b[0;32mimport\u001b[0m \u001b[0mDense\u001b[0m\u001b[0;34m\u001b[0m\u001b[0;34m\u001b[0m\u001b[0m\n\u001b[1;32m      3\u001b[0m \u001b[0;32mfrom\u001b[0m \u001b[0mkeras\u001b[0m\u001b[0;34m.\u001b[0m\u001b[0moptimizers\u001b[0m \u001b[0;32mimport\u001b[0m \u001b[0mSGD\u001b[0m\u001b[0;34m\u001b[0m\u001b[0;34m\u001b[0m\u001b[0m\n\u001b[1;32m      4\u001b[0m \u001b[0;32mdef\u001b[0m \u001b[0mdo_ANN\u001b[0m\u001b[0;34m(\u001b[0m\u001b[0mx\u001b[0m\u001b[0;34m,\u001b[0m\u001b[0my\u001b[0m\u001b[0;34m,\u001b[0m \u001b[0mxv\u001b[0m\u001b[0;34m,\u001b[0m\u001b[0myv\u001b[0m\u001b[0;34m,\u001b[0m \u001b[0mparam\u001b[0m\u001b[0;34m)\u001b[0m\u001b[0;34m:\u001b[0m\u001b[0;34m\u001b[0m\u001b[0;34m\u001b[0m\u001b[0m\n\u001b[1;32m      5\u001b[0m     \u001b[0mprint\u001b[0m\u001b[0;34m(\u001b[0m\u001b[0;34m\"Neuron hidden = \"\u001b[0m\u001b[0;34m,\u001b[0m\u001b[0mparam\u001b[0m\u001b[0;34m)\u001b[0m\u001b[0;34m\u001b[0m\u001b[0;34m\u001b[0m\u001b[0m\n",
      "\u001b[0;31mModuleNotFoundError\u001b[0m: No module named 'keras'"
     ]
    }
   ],
   "source": [
    "from keras.models import Sequential\n",
    "from keras.layers import Dense\n",
    "from keras.optimizers import SGD\n",
    "def do_ANN(x,y, xv,yv, param):\n",
    "    print(\"Neuron hidden = \",param)\n",
    "    model = Sequential()\n",
    "    model.add(Dense(units=param, input_dim=x.shape[1], activation=\"sigmoid\"))\n",
    "    model.add(Dense(1, activation=\"sigmoid\"))\n",
    "    model.compile(optimizer=SGD(lr=0.1), loss=\"binary_crossentropy\", metrics=[\"accuracy\"])\n",
    "    model.fit(x, y, epochs=25, batch_size=128, verbose=0)\n",
    "    train_acc = model.evaluate(x,y, verbose=0)[1] #in position 0 is the loss\n",
    "    test_acc = model.evaluate(xv,yv, verbose=0)[1]\n",
    "    return model, train_acc, test_acc\n",
    "N_h = [2**i for i in range(1,10)]"
   ]
  },
  {
   "cell_type": "markdown",
   "metadata": {},
   "source": [
    "> k) Ahora evalúe sobre el conjunto de pruebas el mejor modelo obtenido, seleccionado en base a la métrica de desempeño en el conjunto de validación. Comente sobre la calidad obtenida en el problema trabajado ¿Es un buen valor? ¿Cuál podría ser un valor de referencia?"
   ]
  },
  {
   "cell_type": "markdown",
   "metadata": {},
   "source": [
    "Regresión lineal, con parámetro C = 1."
   ]
  },
  {
   "cell_type": "code",
   "execution_count": 101,
   "metadata": {},
   "outputs": [
    {
     "name": "stdout",
     "output_type": "stream",
     "text": [
      "Param C=  1\n",
      "0.7119932432432432\n"
     ]
    }
   ],
   "source": [
    "def do_LOGIT(x,y,xv,yv, param):\n",
    "    print(\"Param C= \",param)\n",
    "    model= LogisticRegression()\n",
    "    model.set_params(C=param,max_iter = 10000)\n",
    "    model.fit(x,y)\n",
    "    train_acc = model.score(x,y)\n",
    "    test_acc = model.score(xv,yv)\n",
    "    return model, test_acc, val_acc\n",
    "#Cs = [10**i for i in np.arange(-4,4)]\n",
    "#model, train_acc, test_acc = do_LOGIT(features_train, labels_train, features_val, labels_val, param = 10)\n",
    "model, test_acc, val_acc = do_LOGIT(features_test, labels_test, features_val, labels_val, 1)\n",
    "\n",
    "print(test_acc)"
   ]
  },
  {
   "cell_type": "markdown",
   "metadata": {},
   "source": [
    "Es un buen número. Como referencia se puede tomar el accuracy de cada uno de los modelos anteriores en los datos de validación. Este dato obtenido es el mejor número. Un buen número."
   ]
  },
  {
   "cell_type": "markdown",
   "metadata": {},
   "source": [
    "> l) Para comparar sus resultados utilice el modelo VADER (*Valence Aware Dictionary and sEntiment Reasoner*) [[6]](#refs), el cual entrega una *score* de predicción a nivel léxico (de palabras que comúnmente se asocian a una orientiación positiva o negativa). Este modelo construido manualmente no requiere entrenamiento, por lo que solo debe evaluar en conjunto de pruebas realizando predicciones del texto bruto (sin pre-procesamiento). Comente."
   ]
  },
  {
   "cell_type": "code",
   "execution_count": 102,
   "metadata": {},
   "outputs": [
    {
     "data": {
      "text/plain": [
       "0.6359032076533483"
      ]
     },
     "execution_count": 102,
     "metadata": {},
     "output_type": "execute_result"
    }
   ],
   "source": [
    "from vaderSentiment.vaderSentiment import SentimentIntensityAnalyzer \n",
    "def vader_predict(sentences): \n",
    "    sid_obj = SentimentIntensityAnalyzer() \n",
    "    sent_v = []\n",
    "    for text in sentences:\n",
    "        sentiment_dict = sid_obj.polarity_scores(text) \n",
    "        if sentiment_dict[\"pos\"] > sentiment_dict[\"neg\"]: #based on scores\n",
    "            sent_v.append(1)\n",
    "        else:\n",
    "            sent_v.append(0)\n",
    "    return np.asarray(sent_v)\n",
    "vader_pred_test = vader_predict(df_test_text) \n",
    "from sklearn.metrics import accuracy_score\n",
    "accuracy_score(labels_test, vader_pred_test)"
   ]
  },
  {
   "cell_type": "markdown",
   "metadata": {},
   "source": [
    "El valor entragado por vader_predict corresponde a 0.6359032076533483, el cual es inferior al entregado por la regresión logística con parámetro C = 1 : 0.7119932432432432."
   ]
  },
  {
   "cell_type": "markdown",
   "metadata": {},
   "source": [
    "> m) Bajo la idea del modelo VADER realice un análisis de qué palabras su modelo tiende a considerar como positivas o negativas por si solas. Algunos de los modelos estudiados en esta sección realizan una predicción probabilista, utilice uno de éstos para verificar lo solicitado. Sobre la representación *TF* genere datos de entradas que contengan una sola palabra del vocabulario para evaluar que predicción les genera su modelo a esas palabras. Muestre las palabras más negativas y positivas en el vocabulario consideradas por su modelo. Comente."
   ]
  },
  {
   "cell_type": "code",
   "execution_count": 96,
   "metadata": {},
   "outputs": [
    {
     "name": "stdout",
     "output_type": "stream",
     "text": [
      "[[0.46878827 0.53121173]\n",
      " [0.51200403 0.48799597]\n",
      " [0.50571489 0.49428511]\n",
      " ...\n",
      " [0.51200403 0.48799597]\n",
      " [0.51200403 0.48799597]\n",
      " [0.52858541 0.47141459]]\n"
     ]
    }
   ],
   "source": [
    "V = len(vocab)\n",
    "word_scores = np.zeros((V, 2))\n",
    "for i in range(V):\n",
    "    x_word = np.zeros((1, V))\n",
    "    x_word[:,i] = 1 # only the \"i\" word appeared\n",
    "    word_scores[i] = modelsvm.predict_proba(x_word) #se utiliza ultimo modelo definido\n",
    "    #print(word_scores[i])\n",
    "    #break\n",
    "vocab\n",
    "\n",
    "print(word_scores)\n",
    "#print(word_scores[:5])"
   ]
  },
  {
   "cell_type": "code",
   "execution_count": 103,
   "metadata": {},
   "outputs": [
    {
     "name": "stdout",
     "output_type": "stream",
     "text": [
      "Palabras positivas: \n",
      "\n",
      "relentless\n",
      "deed\n",
      "evokes\n",
      "non\n",
      "unexpected\n",
      "trick\n",
      "judge\n",
      "world\n",
      "urgency\n",
      "howard\n",
      "\n",
      "Palabras negativas: \n",
      "\n",
      "waste\n",
      "avary\n",
      "splitting\n",
      "relevant\n",
      "academy\n",
      "jet\n",
      "cgi\n",
      "price\n",
      "tv\n",
      "wishing\n"
     ]
    }
   ],
   "source": [
    "neg_palabra_score = []\n",
    "pos_palabra_score = []\n",
    "\n",
    "\n",
    "for i in range(V):\n",
    "    if word_scores[i][0] >= word_scores[i][1]:\n",
    "        neg_palabra_score.append((word_scores[i][0], vocab[i])) #palabras negativas\n",
    "    else:\n",
    "        pos_palabra_score.append((word_scores[i][1], vocab[i])) #palabras positivas\n",
    "\n",
    "\n",
    "a = sorted(pos_palabra_score, reverse = True)[:10]\n",
    "b = sorted(neg_palabra_score, reverse = True)[:10]\n",
    "\n",
    "\n",
    "print(\"Palabras positivas: \\n\")\n",
    "for i in a:\n",
    "    print(i[1])\n",
    "\n",
    "print(\"\\nPalabras negativas: \\n\")\n",
    "for i in b:\n",
    "    print(i[1])\n",
    "\n"
   ]
  },
  {
   "cell_type": "markdown",
   "metadata": {},
   "source": [
    "> n) Intente mejorar los resultados de otra manera. Varíe el pre-procesamiento realizado a los datos en c), por ejemplo eliminar símbolos, números o aplicar la técnica de *stemmming* [[7]](#refs) en lugar de *lemmatization* para llevar a su tronco léxico."
   ]
  },
  {
   "cell_type": "code",
   "execution_count": 104,
   "metadata": {},
   "outputs": [
    {
     "name": "stdout",
     "output_type": "stream",
     "text": [
      "ejemplo texts_train:   lack dramat punch depth .\n",
      "ejemplo texts_val:   ha plenti laugh . doe n't much els . . . especi moral sens .\n",
      "ejemplo texts_test:   home alon goe hollywood , funni premis kid start pull stunt even steven spielberg would know . besid , real movi produc n't thi nice .\n"
     ]
    }
   ],
   "source": [
    "from nltk.stem.porter import PorterStemmer\n",
    "#wordstemmer = PorterStemmer()\n",
    "#wordstemmer.stem(word)\n",
    "\n",
    "import re, time\n",
    "from nltk.corpus import stopwords\n",
    "from nltk import WordNetLemmatizer, word_tokenize\n",
    "\n",
    "def base_word(word):\n",
    "    wordstemmer = PorterStemmer()\n",
    "    return wordstemmer.stem(word) \n",
    "\n",
    "def word_extractor(text):\n",
    "    commonwords = stopwords.words('english')\n",
    "    text = re.sub(r'([a-z])\\1+', r'\\1\\1', text) #substitute multiple letter by two\n",
    "    words = \"\"\n",
    "    wordtokens = [ base_word(word.lower()) for word in word_tokenize(text) ]\n",
    "    for word in wordtokens:\n",
    "        if word not in commonwords: #delete stopwords\n",
    "            words+=\" \"+word\n",
    "    return words\n",
    "\n",
    "... #try yourself\n",
    "word_extractor(\"I love to eat cake\")\n",
    "word_extractor(\"I love eating cake\")\n",
    "word_extractor(\"I loved eating the cake\")\n",
    "word_extractor(\"I do not love eating cake\")\n",
    "word_extractor(\"I don't love eating cake\")\n",
    "... #try yourself\n",
    "\n",
    "texts_train = [word_extractor(text) for text in df_train_text]\n",
    "texts_val = [word_extractor(text) for text in df_val_text]\n",
    "texts_test = [word_extractor(text) for text in df_test_text]\n",
    "\n",
    "print(\"ejemplo texts_train: \", texts_train[1])\n",
    "print(\"ejemplo texts_val: \", texts_val[1])\n",
    "print(\"ejemplo texts_test: \", texts_test[1])"
   ]
  },
  {
   "cell_type": "markdown",
   "metadata": {},
   "source": [
    "> o) Varíe la representación utilizada actualmente por alguna otra que ayude a mejorar el desempeño, por ejemplo reducir el peso de una palabra si es que aparece en muchos textos: TF-IDF. Existen varias opciones que podría realizar para mejorar el desempeño, por ejemplo reducir el vocabulario a las $K$ palabras más frecuentes, eliminar las palabras menos frecuentes, normalizar la representación, utilizar *n-gramas*, entre otras."
   ]
  },
  {
   "cell_type": "code",
   "execution_count": 105,
   "metadata": {},
   "outputs": [
    {
     "name": "stdout",
     "output_type": "stream",
     "text": [
      "Param C=  1 Kernel=  linear\n"
     ]
    }
   ],
   "source": [
    "from sklearn.feature_extraction.text import TfidfVectorizer\n",
    "tfidf_model = TfidfVectorizer(binary=False, ngram_range=(1, 1), max_df=1.0, min_df=1, max_features=None, norm='l2', use_idf=True, sublinear_tf=False)\n",
    "tfidf_model.fit(texts_train)\n",
    "features_train = tfidf_model.transform(texts_train)\n",
    "... #for val and test\n",
    "features_val = tfidf_model.transform(texts_val)\n",
    "\n",
    "features_test = tfidf_model.transform(texts_test)\n",
    "\n",
    "model, train_acc, val_acc = do_SVM(features_train,labels_train,features_val,labels_val,1,\"linear\")\n",
    "\n"
   ]
  },
  {
   "cell_type": "markdown",
   "metadata": {},
   "source": [
    "Ya con un modelo elegido, se puede mejorar la accuracy mediante un preprocesamiento de los datos diferente."
   ]
  },
  {
   "cell_type": "markdown",
   "metadata": {},
   "source": [
    "> p) Utilice métricas auxiliares para entender en qué falla su mejor modelo obtenido hasta el momento. ¿La información entregada indica cómo se podría mejorar o cual sería la causa de la falla?"
   ]
  },
  {
   "cell_type": "code",
   "execution_count": 106,
   "metadata": {},
   "outputs": [
    {
     "name": "stdout",
     "output_type": "stream",
     "text": [
      "Detailed Analysis Testing Results ...\n",
      "              precision    recall  f1-score   support\n",
      "\n",
      "           -       0.73      0.73      0.73      1803\n",
      "           +       0.72      0.72      0.72      1751\n",
      "\n",
      "    accuracy                           0.73      3554\n",
      "   macro avg       0.73      0.73      0.73      3554\n",
      "weighted avg       0.73      0.73      0.73      3554\n",
      "\n"
     ]
    }
   ],
   "source": [
    "from sklearn.metrics import classification_report\n",
    "def score_the_model(model, x, y):\n",
    "    print(\"Detailed Analysis Testing Results ...\")\n",
    "    print(classification_report(y, model.predict(x), target_names=['-','+']))\n",
    "score_the_model(model, features_test, labels_test )"
   ]
  },
  {
   "cell_type": "markdown",
   "metadata": {},
   "source": [
    "Evidenciando así la mejora antes nombrada."
   ]
  },
  {
   "cell_type": "markdown",
   "metadata": {},
   "source": [
    "> q) Algo que se puede modificar en algunos modelos de aprendizaje es poner peso en cada una de las clases, por ejemplo si una clase es de mayor interés que las otras e interesa reducir más su error. En *sklearn* ésto puede ser realizado con el parámetro de *class_weights*. Por ejemplo, asigne que detectar los textos negativos me interesa 5 veces más que detectar los textos positivos. Comente."
   ]
  },
  {
   "cell_type": "code",
   "execution_count": 107,
   "metadata": {},
   "outputs": [
    {
     "name": "stdout",
     "output_type": "stream",
     "text": [
      "Detailed Analysis Testing Results ...\n",
      "              precision    recall  f1-score   support\n",
      "\n",
      "           -       0.68      0.83      0.75      1803\n",
      "           +       0.77      0.60      0.67      1751\n",
      "\n",
      "    accuracy                           0.71      3554\n",
      "   macro avg       0.72      0.71      0.71      3554\n",
      "weighted avg       0.72      0.71      0.71      3554\n",
      "\n"
     ]
    }
   ],
   "source": [
    "classes_weights = {0: 5, 1: 1} #or choose..\n",
    "model.set_params(class_weight=classes_weights)\n",
    "model.fit(features_train, labels_train)\n",
    "score_the_model(model, features_test, labels_test)"
   ]
  },
  {
   "cell_type": "markdown",
   "metadata": {},
   "source": [
    "A pesar de darle más peso a los textos negativos, la precisión (accuracy) se ve mejor en los textos positivos. No obstante, en los otros factores, los textos negativos se ven favorecidos."
   ]
  },
  {
   "cell_type": "markdown",
   "metadata": {},
   "source": [
    "> r) Visualice la clasificación que realiza su mejor modelo sobre algunos textos de pruebas ¿Qué entega mas información, una predicción categórica o una continua? ¿Cuál podría ser el beneficio de una o de otra? Comente"
   ]
  },
  {
   "cell_type": "code",
   "execution_count": 59,
   "metadata": {},
   "outputs": [
    {
     "name": "stdout",
     "output_type": "stream",
     "text": [
      "True sent:  0.0 -- Pred sent:  [0.61543734 0.38456266]\n",
      "Raw text:  my own minority report is that it stinks .\n",
      "\n",
      "True sent:  0.0 -- Pred sent:  [0.33786521 0.66213479]\n",
      "Raw text:  our culture is headed down the toilet with the ferocity of a frozen burrito after an all-night tequila bender  and i know this because i've seen 'jackass : the movie . '\n",
      "\n",
      "True sent:  1.0 -- Pred sent:  [0.69924198 0.30075802]\n",
      "Raw text:  a deliciously mordant , bitter black comedy .\n",
      "\n",
      "True sent:  1.0 -- Pred sent:  [0.71268592 0.28731408]\n",
      "Raw text:  often moving and explores the discomfort inherent in the contacts between the american 'hosts' and their 'guests . '\n",
      "\n",
      "True sent:  1.0 -- Pred sent:  [0.72616224 0.27383776]\n",
      "Raw text:  it's a feel-good movie about which you can actually feel good .\n",
      "\n",
      "True sent:  0.0 -- Pred sent:  [0.83612999 0.16387001]\n",
      "Raw text:  the one not-so-small problem with expecting is that the entire exercise has no real point .\n",
      "\n",
      "True sent:  0.0 -- Pred sent:  [0.93428755 0.06571245]\n",
      "Raw text:  slow , silly and unintentionally hilarious .\n",
      "\n",
      "True sent:  0.0 -- Pred sent:  [0.61839185 0.38160815]\n",
      "Raw text:  if you think it's a riot to see rob schneider in a young woman's clothes , then you'll enjoy the hot chick .\n",
      "\n",
      "True sent:  0.0 -- Pred sent:  [0.55284903 0.44715097]\n",
      "Raw text:  more intellectually scary than dramatically involving .\n",
      "\n",
      "True sent:  0.0 -- Pred sent:  [0.26884031 0.73115969]\n",
      "Raw text:  though this rude and crude film does deliver a few gut-busting laughs , its digs at modern society are all things we've seen before .\n",
      "\n",
      "True sent:  0.0 -- Pred sent:  [0.36185024 0.63814976]\n",
      "Raw text:  the uneven movie does have its charms and its funny moments but not quite enough of them .\n",
      "\n",
      "True sent:  0.0 -- Pred sent:  [0.95533625 0.04466375]\n",
      "Raw text:  i don't think i laughed out loud once . and when you're talking about a slapstick comedy , that's a pretty big problem .\n",
      "\n",
      "True sent:  1.0 -- Pred sent:  [0.52949394 0.47050606]\n",
      "Raw text:  there's no conversion effort , much of the writing is genuinely witty and both stars are appealing enough to probably have a good shot at a hollywood career , if they want one .\n",
      "\n",
      "True sent:  0.0 -- Pred sent:  [0.41295544 0.58704456]\n",
      "Raw text:  secret ballot is too contemplative to be really funny .\n",
      "\n",
      "True sent:  0.0 -- Pred sent:  [0.50845844 0.49154156]\n",
      "Raw text:  dull , if not devoid of wit , this shaggy dog longs to frisk through the back alleys of history , but scarcely manages more than a modest , snoozy charm .\n",
      "\n"
     ]
    }
   ],
   "source": [
    "test_pred = model.predict_proba(features_test) #or \".predict\"\n",
    "spl = np.random.randint( 0, len(test_pred), size=15)\n",
    "for text, pred_s, true_s in zip(df_test_text[spl], test_pred[spl], labels_test[spl]):\n",
    "    print(\"True sent: \", true_s, \"-- Pred sent: \",pred_s)\n",
    "    print(\"Raw text: \", text)"
   ]
  },
  {
   "cell_type": "markdown",
   "metadata": {},
   "source": [
    "Es interesante una clasificación continua, permite ubicar cada palabra en el espectro.\n",
    "Así, es posible determinar que palabras son \"más positivas\" o \"más negativas\"."
   ]
  },
  {
   "cell_type": "markdown",
   "metadata": {},
   "source": [
    "> s) Comente sobre el desempeño obtenido por los diferentes modelos de aprendizaje utilizados al enfrentar el problema, ¿Dónde pareciera estar la mejora? ¿En la variación de los modelos y sus parámetros o en la modificación de la representación? ¿Cuál modelo de aprendizaje le parece mejor en base a su criterio? ya sea desempeño, tiempo de ejecución comodidad en las decisiones involucradas, etc."
   ]
  },
  {
   "cell_type": "markdown",
   "metadata": {},
   "source": [
    "Como se mencionó anteriormente, el mejor modelo fue la regresion lineal con C = 1.\n",
    "Está claro que la variación de parámetros en los modelos es relevante para su precisión. (Veáse los gráficos desarrollados para cada modelo).\n",
    "La modificación de la representación también demostró ser importante.\n",
    "Los dos factores tienen el potencial de mejorar la predicción."
   ]
  },
  {
   "cell_type": "markdown",
   "metadata": {},
   "source": [
    "<a id=\"segundo\"></a>\n",
    "## 2. Problema de Múltiples Anotaciones\n",
    "\n",
    "El aprendizaje supervisado visto en clases da cuenta que existe una única posible etiqueta $z$ (*ground truth*) asociada a un dato $x$ para poder aprender de los datos. Sin embargo, la definición del *ground truth* en algunos casos puede resultar bastante difícil de definir o bastante costoso, por ejemplo en problemas médicos donde se deben realizar invasivos exámenes para conocer la \"verdad absoluta\". Como alternativa se pueden recolectar múltiples anotaciones desde personas inexpertas en el área para poder estimar el *ground truth*. \n",
    "\n",
    "<img src=\"http://www.irishenvironment.com/wp-content/uploads/2013/11/crowdsourcing.jpg\" title=\"Title text\" width=\"40%\" />\n",
    "\n",
    "En esta actividad se trabajará en el caso en que contamos con múltiples anotaciones por cada dato de entrada $x_i$ dadas por personas inexpertas a través de Amazon Mechanical Turk (__[AMT](https://www.mturk.com/)__), es decir, $y^{(1)}, y^{(2)} \\ldots y^{(T_i)}$. El problema de predicción trabajado será el mismo de la actividad anterior, el análisis de sentimiento de un extracto de texto en Rotten Tomatoes. Los datos trabajados [[8]](#refs) pueden ser descargados de la página del autor.\n",
    "```\n",
    "wget http://fprodrigues.com//mturk-datasets.tar.gz\n",
    "```\n",
    "\n",
    "De esta manera trabajaremos con el archivo *mturk_answers.csv* en la carpeta *sentiment polarity* que se puede cargar con pandas. En este archivo se tendrán múltiples filas/registros por cada dato de entrenamiento, cada uno representando la etiqueta que entregó una persona (*worker*) a ese dato, los detalles de columnas son:\n",
    "* *WorkerId*: identificador de la persona que etiquetó/anotó el dato\n",
    "* *Input.id*: identificador del dato a etiquetar/anotar\n",
    "* *Input.original_sentence*: texto original del dato\n",
    "* *Input.stemmed_sent*: texto pre-procesado\n",
    "* *Input.true_sent*: sentimiento real (*ground truth*) del dato\n",
    "* *Answer.sent*:   etiqueta/anotación que entregó la persona\n",
    "\n",
    "```python\n",
    "import pandas as pd\n",
    "df = pd.read_csv(\"./sentiment_polarity/mturk_answers.csv\") \n",
    "```\n",
    "\n",
    "> El objetivo de la actividad será el de obtener un modelo predictor del *ground truth* sin entrenar directamente con esto, sino que utilizar las múltiples anotaciones de las personas\n",
    "\n",
    "### Importante\n",
    "* Deberá crear un conjunto aleatorio de pruebas que solo contenga los textos y el sentimiento *ground truth* (sin repeticiones)\n",
    "* Los valores de *ground truth* están **solo para evaluar**, no puede utilizarlos para entrenar o tomar decisiones en su modelo.\n",
    "* La métrica de evaluación será el *accuracy score*\n",
    "```python\n",
    "from sklearn.metrics import accuracy_score\n",
    "accuracy_score(y_true, y_pred)\n",
    "```\n",
    "\n",
    "#### Sugerencias\n",
    "Para representar los textos, a diferencia de lo visto en la sección 1, se puede utilizar lo que son la representación vectorial de palabras (*word vectors*), a través de modelos especializados entrenados para aprender una representación en que palabras similares estén cercanas en el espacio vectorial. Puede utilizar los vectores livianos de __[GLOVE](https://nlp.stanford.edu/projects/glove/)__ en su versión entradas en textos de Wikipedia con 6 billones de palabras/tokens.\n",
    "```python\n",
    "EMBEDDING_DIM = 300\n",
    "GLOVE_FILE = \"./glove.6B.%dd.txt\"%(EMBEDDING_DIM)\n",
    "embeddings_index = {}\n",
    "with open(GLOVE_FILE) as file:\n",
    "    for line in file:\n",
    "        values = line.split()\n",
    "        embeddings_index[values[0]] = np.asarray(values[1:], dtype='float32')\n",
    "...\n",
    "embeddings_index.get(word)\n",
    "```\n",
    "> Para descargar GLOVE\n",
    "```\n",
    "wget http://nlp.stanford.edu/data/glove.6B.zip\n",
    "```"
   ]
  },
  {
   "cell_type": "markdown",
   "metadata": {},
   "source": [
    "<a id=\"refs\"></a>\n",
    "## Referencias\n",
    "[1] Keras: Deep Learning library for Theano and TensorFlow. https://keras.io/  \n",
    "[2] https://www.kaggle.com/c/sentiment-analysis-on-movie-reviews  \n",
    "[3] https://en.wikipedia.org/wiki/Stopwords  \n",
    "[4] https://en.wikipedia.org/wiki/Lemmatisation  \n",
    "[5] Landauer, T. K., Foltz, P. W., & Laham, D. (1998). *An introduction to latent semantic analysis*. Discourse processes, 25(2-3), 259-284.  \n",
    "[6] https://github.com/cjhutto/vaderSentiment  \n",
    "[7] https://en.wikipedia.org/wiki/Stemming  \n",
    "[8] Rodrigues, F., Pereira, F., & Ribeiro, B. (2013). *Learning from multiple annotators: distinguishing good from random labelers*. Pattern Recognition Letters, 34(12), 1428-1436."
   ]
  }
 ],
 "metadata": {
  "kernelspec": {
   "display_name": "Python 3",
   "language": "python",
   "name": "python3"
  },
  "language_info": {
   "codemirror_mode": {
    "name": "ipython",
    "version": 3
   },
   "file_extension": ".py",
   "mimetype": "text/x-python",
   "name": "python",
   "nbconvert_exporter": "python",
   "pygments_lexer": "ipython3",
   "version": "3.7.2"
  }
 },
 "nbformat": 4,
 "nbformat_minor": 2
}
